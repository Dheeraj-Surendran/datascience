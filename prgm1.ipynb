{
 "cells": [
  {
   "cell_type": "code",
   "execution_count": 1,
   "id": "cbfebb8d-48e8-4387-8a64-e1c8aabf1e3c",
   "metadata": {},
   "outputs": [
    {
     "name": "stdout",
     "output_type": "stream",
     "text": [
      "Demo of basic data types:Numbers\n",
      "x= 3\n",
      "y= 2.5\n",
      "data type of variable n: <class 'int'>\n",
      "data type of variable y: <class 'float'>\n",
      "addition: 5.5\n",
      "substraction: 0.5\n",
      "multiplication: 6\n",
      "exponential: 9\n"
     ]
    }
   ],
   "source": [
    "print(\"Demo of basic data types:Numbers\")\n",
    "x=3\n",
    "y=2.5\n",
    "print(\"x=\",x)\n",
    "print(\"y=\",y)\n",
    "print(\"data type of variable n:\",type(x))\n",
    "print(\"data type of variable y:\",type(y))\n",
    "print(\"addition:\",x+y)\n",
    "print(\"substraction:\",x-y)\n",
    "print(\"multiplication:\",x*2)\n",
    "print(\"exponential:\",x**2)"
   ]
  },
  {
   "cell_type": "code",
   "execution_count": null,
   "id": "4321fc82-b848-47ba-be38-00ac80a5c21a",
   "metadata": {},
   "outputs": [],
   "source": []
  }
 ],
 "metadata": {
  "kernelspec": {
   "display_name": "Python 3 (ipykernel)",
   "language": "python",
   "name": "python3"
  },
  "language_info": {
   "codemirror_mode": {
    "name": "ipython",
    "version": 3
   },
   "file_extension": ".py",
   "mimetype": "text/x-python",
   "name": "python",
   "nbconvert_exporter": "python",
   "pygments_lexer": "ipython3",
   "version": "3.12.4"
  }
 },
 "nbformat": 4,
 "nbformat_minor": 5
}
